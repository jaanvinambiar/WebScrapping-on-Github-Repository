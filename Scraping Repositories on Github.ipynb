{
 "cells": [
  {
   "cell_type": "markdown",
   "id": "e32e7702",
   "metadata": {},
   "source": [
    "# Scraping Top Repositories On Github\n",
    "\n",
    "\n",
    "#### Here are the steps we are going to follow:\n",
    "\n",
    "  1. We're going to scrape https://github.com/topics\n",
    "  2. We'll get a list of topics. \n",
    "  3. For each topic, we'll get topic title, topic page URL and topic description\n",
    "  4. For each topic, we'll get the top 25 repositories in the topic from the topic page\n",
    "  5. For each repository, we'll grab the repo name, username, stars and repo URL\n",
    "  6. For each topic we'll create a CSV file in the following format:\n",
    " \n",
    "    Repo Name,Username,Stars,Repo URL\n",
    "    three.js,mrdoob,69700,https://github.com/mrdoob/three.js\n",
    "    libgdx,libgdx,18300,https://github.com/libgdx/libgdx"
   ]
  },
  {
   "cell_type": "markdown",
   "id": "58a1d9e3",
   "metadata": {},
   "source": [
    "### Scraping list of topics \n",
    "\n",
    "  - Use requests to download the page\n",
    "  - Use BS4 to parse the page and extract the information\n",
    "  - onvert to Pandas data frame "
   ]
  },
  {
   "cell_type": "code",
   "execution_count": 49,
   "id": "d45cfb92",
   "metadata": {},
   "outputs": [],
   "source": [
    "import requests\n",
    "from bs4 import BeautifulSoup\n",
    "import pandas as pd\n",
    "\n",
    "def get_topic_page():\n",
    "    topic_url = 'https://github.com/topics'\n",
    "    # Downloading the page\n",
    "    response = requests.get(topic_url)\n",
    "    # Checking status\n",
    "    if response.status_code != 200:\n",
    "        raise Exception('Failed to load page {}'.format(topic_url))\n",
    "    \n",
    "    # Parse the page using BeautifulSoup \n",
    "    doc = BeautifulSoup(response.text, 'html.parser')\n",
    "    return doc"
   ]
  },
  {
   "cell_type": "code",
   "execution_count": 50,
   "id": "1bc47409",
   "metadata": {},
   "outputs": [],
   "source": [
    "doc =  get_topic_page()"
   ]
  },
  {
   "cell_type": "markdown",
   "id": "b08043f5",
   "metadata": {},
   "source": [
    "Let's build some helper functions to get the information\n",
    "\n",
    "For topic title we can use p with class name:"
   ]
  },
  {
   "cell_type": "code",
   "execution_count": 51,
   "id": "55f18b3a",
   "metadata": {},
   "outputs": [],
   "source": [
    "def get_topic_titles(doc):\n",
    "    topic_title_tags = doc.find_all('p', class_='f3 lh-condensed mb-0 mt-1 Link--primary')\n",
    "    topic_titles = []\n",
    "    for tag in topic_title_tags:\n",
    "        topic_titles.append(tag.text)\n",
    "    return topic_titles"
   ]
  },
  {
   "cell_type": "code",
   "execution_count": 52,
   "id": "5dce4f26",
   "metadata": {},
   "outputs": [],
   "source": [
    "# get_topic_title can be used to get list of topics\n",
    "\n",
    "titles = get_topic_titles(doc)"
   ]
  },
  {
   "cell_type": "code",
   "execution_count": 53,
   "id": "a1fa23bc",
   "metadata": {},
   "outputs": [
    {
     "data": {
      "text/plain": [
       "30"
      ]
     },
     "execution_count": 53,
     "metadata": {},
     "output_type": "execute_result"
    }
   ],
   "source": [
    "len(titles)"
   ]
  },
  {
   "cell_type": "code",
   "execution_count": 54,
   "id": "1b696d7d",
   "metadata": {},
   "outputs": [
    {
     "data": {
      "text/plain": [
       "['3D', 'Ajax', 'Algorithm', 'Amp', 'Android']"
      ]
     },
     "execution_count": 54,
     "metadata": {},
     "output_type": "execute_result"
    }
   ],
   "source": [
    "titles[:5]"
   ]
  },
  {
   "cell_type": "markdown",
   "id": "98a2c4b5",
   "metadata": {},
   "source": [
    "Similarly, we can use functions to get URLs and Description"
   ]
  },
  {
   "cell_type": "code",
   "execution_count": 55,
   "id": "d3358cc2",
   "metadata": {},
   "outputs": [],
   "source": [
    "def get_topic_urls(doc):\n",
    "    topic_link_tags = doc.find_all('a',class_='no-underline flex-1 d-flex flex-column')\n",
    "    topic_urls = []\n",
    "    base_url = 'http://github.com'\n",
    "    for tag in topic_link_tags:\n",
    "        topic_urls.append(base_url + tag['href'])\n",
    "    return topic_urls"
   ]
  },
  {
   "cell_type": "code",
   "execution_count": 56,
   "id": "bdefce6f",
   "metadata": {},
   "outputs": [],
   "source": [
    "urls = get_topic_urls(doc)"
   ]
  },
  {
   "cell_type": "code",
   "execution_count": 57,
   "id": "e18856b4",
   "metadata": {},
   "outputs": [
    {
     "data": {
      "text/plain": [
       "['http://github.com/topics/3d',\n",
       " 'http://github.com/topics/ajax',\n",
       " 'http://github.com/topics/algorithm',\n",
       " 'http://github.com/topics/amphp',\n",
       " 'http://github.com/topics/android']"
      ]
     },
     "execution_count": 57,
     "metadata": {},
     "output_type": "execute_result"
    }
   ],
   "source": [
    "urls[:5]"
   ]
  },
  {
   "cell_type": "code",
   "execution_count": 58,
   "id": "4d5e5d1e",
   "metadata": {},
   "outputs": [],
   "source": [
    "def get_topic_desc(doc):\n",
    "    topic_desc_tags = doc.find_all('p', class_='f5 color-fg-muted mb-0 mt-1')\n",
    "    topic_descs = []\n",
    "    for desc in topic_desc_tags:\n",
    "        topic_descs.append(desc.text.strip())\n",
    "    return topic_descs"
   ]
  },
  {
   "cell_type": "code",
   "execution_count": 59,
   "id": "1d779bb8",
   "metadata": {},
   "outputs": [],
   "source": [
    "desc = get_topic_desc(doc)"
   ]
  },
  {
   "cell_type": "code",
   "execution_count": 60,
   "id": "783df62e",
   "metadata": {},
   "outputs": [
    {
     "data": {
      "text/plain": [
       "['3D modeling is the process of virtually developing the surface and structure of a 3D object.',\n",
       " 'Ajax is a technique for creating interactive web applications.',\n",
       " 'Algorithms are self-contained sequences that carry out a variety of tasks.',\n",
       " 'Amp is a non-blocking concurrency library for PHP.',\n",
       " 'Android is an operating system built by Google designed for mobile devices.']"
      ]
     },
     "execution_count": 60,
     "metadata": {},
     "output_type": "execute_result"
    }
   ],
   "source": [
    "desc[:5]"
   ]
  },
  {
   "cell_type": "markdown",
   "id": "13250b4d",
   "metadata": {},
   "source": [
    "Let us now put them into a single function"
   ]
  },
  {
   "cell_type": "code",
   "execution_count": 76,
   "id": "c04d650c",
   "metadata": {},
   "outputs": [],
   "source": [
    "def scrape_topics():\n",
    "    topic_url = 'https://github.com/topics'\n",
    "    response = requests.get(topic_url)\n",
    "    if response.status_code != 200:\n",
    "        raise Exception('Failed to load page {}'.format(topic_url))\n",
    "    doc = BeautifulSoup(response.text, 'html.parser')\n",
    "    topics_dict = {\n",
    "        'title' : get_topic_titles(doc),\n",
    "        'description': get_topic_desc(doc),\n",
    "        'url' : get_topic_urls(doc)\n",
    "    }\n",
    "    return pd.DataFrame(topics_dict)"
   ]
  },
  {
   "cell_type": "markdown",
   "id": "aea4c16a",
   "metadata": {},
   "source": [
    "## Getting top 30 repositories from a topic"
   ]
  },
  {
   "cell_type": "code",
   "execution_count": 77,
   "id": "a031dafd",
   "metadata": {},
   "outputs": [],
   "source": [
    "def get_topic_page(topic_page_url):\n",
    "    # Downloading the page\n",
    "    response = requests.get(topic_page_url)\n",
    "    # Checking status\n",
    "    if response.status_code != 200:\n",
    "        raise Exception('Failed to load page {}'.format(topic_page_url))\n",
    "    \n",
    "    # Parse the page using BeautifulSoup \n",
    "    topic_doc = BeautifulSoup(response.text, 'html.parser')\n",
    "    return topic_doc"
   ]
  },
  {
   "cell_type": "code",
   "execution_count": 78,
   "id": "8f3b65c6",
   "metadata": {},
   "outputs": [],
   "source": [
    "doc = get_topic_page('https://github.com/topics/3d')"
   ]
  },
  {
   "cell_type": "markdown",
   "id": "0911aa80",
   "metadata": {},
   "source": [
    "Now, on this page we need to get the username and project name of each repository. We inspect the page and find that they are confined within the 'h3' tag within the HTMl code. Both the username and repo name is in 'a' tags and hence we first find all the 'a' tags and use the index to seperate them"
   ]
  },
  {
   "cell_type": "code",
   "execution_count": 90,
   "id": "ba1f04df",
   "metadata": {},
   "outputs": [],
   "source": [
    "def get_repo_info(h3_tag, star_tag):\n",
    "    base_url = 'http://github.com'\n",
    "    a_tags = h3_tag.find_all('a')\n",
    "    username = a_tags[0].text.strip()\n",
    "    repo_name = a_tags[1].text.strip()\n",
    "    repo_url = base_url + a_tags[1]['href']\n",
    "    stars = star_count(star_tag.text.strip())\n",
    "    return username,repo_name,stars,repo_url"
   ]
  },
  {
   "cell_type": "code",
   "execution_count": 91,
   "id": "8869a49c",
   "metadata": {},
   "outputs": [],
   "source": [
    "def get_topic_repos(topic_doc):\n",
    "    \n",
    "    # Find all the repo tags that contains username, repo URL and repo name\n",
    "    repo_tags = topic_doc.find_all('h3', class_='f3 color-fg-muted text-normal lh-condensed')\n",
    "    \n",
    "    # Find all the star tags\n",
    "    star_tags = topic_doc.find_all('span', class_='Counter js-social-count')\n",
    "    \n",
    "    topic_repo_dict = {\n",
    "        'username' : [],\n",
    "        'repo_name' : [],\n",
    "        'stars' : [],\n",
    "        'repo_url' : []\n",
    "    }\n",
    "    \n",
    "    # Get repo info\n",
    "    for i in range(len(repo_tags)):\n",
    "        repo_info = get_repo_info(repo_tags[i],star_tags[i])\n",
    "        topic_repo_dict['username'].append(repo_info[0])\n",
    "        topic_repo_dict['repo_name'].append(repo_info[1])\n",
    "        topic_repo_dict['stars'].append(repo_info[2])\n",
    "        topic_repo_dict['repo_url'].append(repo_info[3])\n",
    "        \n",
    "    return pd.DataFrame(topic_repo_dict)"
   ]
  },
  {
   "cell_type": "markdown",
   "id": "bb809868",
   "metadata": {},
   "source": [
    "#### This is the function to change the star count into integers i.e. for example if the stars are 77.5k the function will change it into 77500"
   ]
  },
  {
   "cell_type": "code",
   "execution_count": 92,
   "id": "7b22e420",
   "metadata": {},
   "outputs": [],
   "source": [
    "def star_count(star_str):\n",
    "    star_str = star_str.strip()\n",
    "    if star_str[-1] == 'k':\n",
    "        return int(float(star_str[:-1]) * 1000)\n",
    "    return int(star_str)"
   ]
  },
  {
   "cell_type": "code",
   "execution_count": 93,
   "id": "11a87752",
   "metadata": {},
   "outputs": [],
   "source": [
    "import os\n",
    "\n",
    "def scrape_topic(topic_url, path):\n",
    "    if os.path.exists(path):\n",
    "        print('The file {} already exists. Skipping...'.format(path))\n",
    "        return\n",
    "    topic_df = get_topic_repos(get_topic_page(topic_url))\n",
    "    topic_df.to_csv(path, index=None)"
   ]
  },
  {
   "cell_type": "markdown",
   "id": "ae6825b7",
   "metadata": {},
   "source": [
    "## Putting it all together\n",
    "  1. We have a funciton to get the list of topics\n",
    "  2. We have a function to create a CSV file for scraped repos from a topics page\n",
    "  3. Let's create a function to put them together"
   ]
  },
  {
   "cell_type": "code",
   "execution_count": 94,
   "id": "074caa0f",
   "metadata": {},
   "outputs": [],
   "source": [
    "def scrape_topics_repos():\n",
    "    print('Scraping list of topics')\n",
    "    topic_df = scrape_topics()\n",
    "    \n",
    "    os.makedirs('data1', exist_ok=True)\n",
    "    for index, row in topic_df.iterrows():\n",
    "        print('Scraping top repositories')\n",
    "        scrape_topic(row['url'], 'data1/{}.csv'.format(row['title']))"
   ]
  },
  {
   "cell_type": "markdown",
   "id": "103c5687",
   "metadata": {},
   "source": [
    "Let's run it to scrape the top repos for the all the topics on the first page of https://github.com/topics"
   ]
  },
  {
   "cell_type": "code",
   "execution_count": 95,
   "id": "ea963bac",
   "metadata": {},
   "outputs": [
    {
     "name": "stdout",
     "output_type": "stream",
     "text": [
      "Scraping list of topics\n",
      "Scraping top repositories\n",
      "Scraping top repositories\n",
      "Scraping top repositories\n",
      "Scraping top repositories\n",
      "Scraping top repositories\n",
      "Scraping top repositories\n",
      "Scraping top repositories\n",
      "Scraping top repositories\n",
      "Scraping top repositories\n",
      "Scraping top repositories\n",
      "Scraping top repositories\n",
      "Scraping top repositories\n",
      "Scraping top repositories\n",
      "Scraping top repositories\n",
      "Scraping top repositories\n",
      "Scraping top repositories\n",
      "Scraping top repositories\n",
      "Scraping top repositories\n",
      "Scraping top repositories\n",
      "Scraping top repositories\n",
      "Scraping top repositories\n",
      "Scraping top repositories\n",
      "Scraping top repositories\n",
      "Scraping top repositories\n",
      "Scraping top repositories\n",
      "Scraping top repositories\n",
      "Scraping top repositories\n",
      "Scraping top repositories\n",
      "Scraping top repositories\n",
      "Scraping top repositories\n"
     ]
    }
   ],
   "source": [
    "scrape_topics_repos()"
   ]
  },
  {
   "cell_type": "markdown",
   "id": "6f13734d",
   "metadata": {},
   "source": [
    "We can check that the CSVs were created properly"
   ]
  },
  {
   "cell_type": "code",
   "execution_count": 98,
   "id": "9b0d5223",
   "metadata": {},
   "outputs": [],
   "source": [
    "# Let us read one of the files\n",
    "\n",
    "df1 = pd.read_csv('data1/3D.csv')"
   ]
  },
  {
   "cell_type": "code",
   "execution_count": 99,
   "id": "0dd14d93",
   "metadata": {},
   "outputs": [
    {
     "data": {
      "text/html": [
       "<div>\n",
       "<style scoped>\n",
       "    .dataframe tbody tr th:only-of-type {\n",
       "        vertical-align: middle;\n",
       "    }\n",
       "\n",
       "    .dataframe tbody tr th {\n",
       "        vertical-align: top;\n",
       "    }\n",
       "\n",
       "    .dataframe thead th {\n",
       "        text-align: right;\n",
       "    }\n",
       "</style>\n",
       "<table border=\"1\" class=\"dataframe\">\n",
       "  <thead>\n",
       "    <tr style=\"text-align: right;\">\n",
       "      <th></th>\n",
       "      <th>username</th>\n",
       "      <th>repo_name</th>\n",
       "      <th>stars</th>\n",
       "      <th>repo_url</th>\n",
       "    </tr>\n",
       "  </thead>\n",
       "  <tbody>\n",
       "    <tr>\n",
       "      <th>0</th>\n",
       "      <td>mrdoob</td>\n",
       "      <td>three.js</td>\n",
       "      <td>77600</td>\n",
       "      <td>http://github.com/mrdoob/three.js</td>\n",
       "    </tr>\n",
       "    <tr>\n",
       "      <th>1</th>\n",
       "      <td>libgdx</td>\n",
       "      <td>libgdx</td>\n",
       "      <td>19500</td>\n",
       "      <td>http://github.com/libgdx/libgdx</td>\n",
       "    </tr>\n",
       "    <tr>\n",
       "      <th>2</th>\n",
       "      <td>pmndrs</td>\n",
       "      <td>react-three-fiber</td>\n",
       "      <td>16300</td>\n",
       "      <td>http://github.com/pmndrs/react-three-fiber</td>\n",
       "    </tr>\n",
       "    <tr>\n",
       "      <th>3</th>\n",
       "      <td>BabylonJS</td>\n",
       "      <td>Babylon.js</td>\n",
       "      <td>15600</td>\n",
       "      <td>http://github.com/BabylonJS/Babylon.js</td>\n",
       "    </tr>\n",
       "    <tr>\n",
       "      <th>4</th>\n",
       "      <td>aframevr</td>\n",
       "      <td>aframe</td>\n",
       "      <td>13500</td>\n",
       "      <td>http://github.com/aframevr/aframe</td>\n",
       "    </tr>\n",
       "  </tbody>\n",
       "</table>\n",
       "</div>"
      ],
      "text/plain": [
       "    username          repo_name  stars  \\\n",
       "0     mrdoob           three.js  77600   \n",
       "1     libgdx             libgdx  19500   \n",
       "2     pmndrs  react-three-fiber  16300   \n",
       "3  BabylonJS         Babylon.js  15600   \n",
       "4   aframevr             aframe  13500   \n",
       "\n",
       "                                     repo_url  \n",
       "0           http://github.com/mrdoob/three.js  \n",
       "1             http://github.com/libgdx/libgdx  \n",
       "2  http://github.com/pmndrs/react-three-fiber  \n",
       "3      http://github.com/BabylonJS/Babylon.js  \n",
       "4           http://github.com/aframevr/aframe  "
      ]
     },
     "execution_count": 99,
     "metadata": {},
     "output_type": "execute_result"
    }
   ],
   "source": [
    "df1.head()"
   ]
  },
  {
   "cell_type": "code",
   "execution_count": 100,
   "id": "c14f1662",
   "metadata": {},
   "outputs": [
    {
     "data": {
      "text/html": [
       "<div>\n",
       "<style scoped>\n",
       "    .dataframe tbody tr th:only-of-type {\n",
       "        vertical-align: middle;\n",
       "    }\n",
       "\n",
       "    .dataframe tbody tr th {\n",
       "        vertical-align: top;\n",
       "    }\n",
       "\n",
       "    .dataframe thead th {\n",
       "        text-align: right;\n",
       "    }\n",
       "</style>\n",
       "<table border=\"1\" class=\"dataframe\">\n",
       "  <thead>\n",
       "    <tr style=\"text-align: right;\">\n",
       "      <th></th>\n",
       "      <th>username</th>\n",
       "      <th>repo_name</th>\n",
       "      <th>stars</th>\n",
       "      <th>repo_url</th>\n",
       "    </tr>\n",
       "  </thead>\n",
       "  <tbody>\n",
       "    <tr>\n",
       "      <th>0</th>\n",
       "      <td>metafizzy</td>\n",
       "      <td>infinite-scroll</td>\n",
       "      <td>7000</td>\n",
       "      <td>http://github.com/metafizzy/infinite-scroll</td>\n",
       "    </tr>\n",
       "    <tr>\n",
       "      <th>1</th>\n",
       "      <td>ljianshu</td>\n",
       "      <td>Blog</td>\n",
       "      <td>6900</td>\n",
       "      <td>http://github.com/ljianshu/Blog</td>\n",
       "    </tr>\n",
       "    <tr>\n",
       "      <th>2</th>\n",
       "      <td>developit</td>\n",
       "      <td>unfetch</td>\n",
       "      <td>5300</td>\n",
       "      <td>http://github.com/developit/unfetch</td>\n",
       "    </tr>\n",
       "    <tr>\n",
       "      <th>3</th>\n",
       "      <td>jquery-form</td>\n",
       "      <td>form</td>\n",
       "      <td>5100</td>\n",
       "      <td>http://github.com/jquery-form/form</td>\n",
       "    </tr>\n",
       "    <tr>\n",
       "      <th>4</th>\n",
       "      <td>olifolkerd</td>\n",
       "      <td>tabulator</td>\n",
       "      <td>4300</td>\n",
       "      <td>http://github.com/olifolkerd/tabulator</td>\n",
       "    </tr>\n",
       "  </tbody>\n",
       "</table>\n",
       "</div>"
      ],
      "text/plain": [
       "      username        repo_name  stars  \\\n",
       "0    metafizzy  infinite-scroll   7000   \n",
       "1     ljianshu             Blog   6900   \n",
       "2    developit          unfetch   5300   \n",
       "3  jquery-form             form   5100   \n",
       "4   olifolkerd        tabulator   4300   \n",
       "\n",
       "                                      repo_url  \n",
       "0  http://github.com/metafizzy/infinite-scroll  \n",
       "1              http://github.com/ljianshu/Blog  \n",
       "2          http://github.com/developit/unfetch  \n",
       "3           http://github.com/jquery-form/form  \n",
       "4       http://github.com/olifolkerd/tabulator  "
      ]
     },
     "execution_count": 100,
     "metadata": {},
     "output_type": "execute_result"
    }
   ],
   "source": [
    "df2 = pd.read_csv('data1/Ajax.csv')\n",
    "df2.head()"
   ]
  },
  {
   "cell_type": "code",
   "execution_count": null,
   "id": "d3b96e89",
   "metadata": {},
   "outputs": [],
   "source": []
  }
 ],
 "metadata": {
  "kernelspec": {
   "display_name": "Python 3",
   "language": "python",
   "name": "python3"
  },
  "language_info": {
   "codemirror_mode": {
    "name": "ipython",
    "version": 3
   },
   "file_extension": ".py",
   "mimetype": "text/x-python",
   "name": "python",
   "nbconvert_exporter": "python",
   "pygments_lexer": "ipython3",
   "version": "3.9.2"
  }
 },
 "nbformat": 4,
 "nbformat_minor": 5
}
